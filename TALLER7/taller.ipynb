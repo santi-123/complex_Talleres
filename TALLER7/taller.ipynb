{
 "cells": [
  {
   "cell_type": "code",
   "execution_count": 7,
   "metadata": {},
   "outputs": [
    {
     "data": {
      "image/png": "[encoded data removed]",
      "text/plain": [
       "<Figure size 538.33x284.278 with 1 Axes>"
      ]
     },
     "execution_count": 7,
     "metadata": {},
     "output_type": "execute_result"
    }
   ],
   "source": [
    "# Built-in modules\n",
    "import math\n",
    "\n",
    "# Imports from Qiskit\n",
    "from qiskit import QuantumCircuit\n",
    "from qiskit.circuit.library import GroverOperator, MCMT, ZGate\n",
    "from qiskit.visualization import plot_distribution\n",
    "\n",
    "# Imports from Qiskit Runtime\n",
    "from qiskit_ibm_runtime import QiskitRuntimeService\n",
    "from qiskit_ibm_runtime import SamplerV2 as Sampler\n",
    "\n",
    "def grover_oracle(marked_states):\n",
    "    \"\"\"Build a Grover oracle for multiple marked states\n",
    "\n",
    "    Here we assume all input marked states have the same number of bits\n",
    "\n",
    "    Parameters:\n",
    "        marked_states (str or list): Marked states of oracle\n",
    "\n",
    "    Returns:\n",
    "        QuantumCircuit: Quantum circuit representing Grover oracle\n",
    "    \"\"\"\n",
    "    if not isinstance(marked_states, list):\n",
    "        marked_states = [marked_states]\n",
    "    # Compute the number of qubits in circuit\n",
    "    num_qubits = len(marked_states[0])\n",
    "\n",
    "    qc = QuantumCircuit(num_qubits)\n",
    "    # Mark each target state in the input list\n",
    "    for target in marked_states:\n",
    "        # Flip target bit-string to match Qiskit bit-ordering\n",
    "        rev_target = target[::-1]\n",
    "        # Find the indices of all the '0' elements in bit-string\n",
    "        zero_inds = [ind for ind in range(num_qubits) if rev_target.startswith(\"0\", ind)]\n",
    "        # Add a multi-controlled Z-gate with pre- and post-applied X-gates (open-controls)\n",
    "        # where the target bit-string has a '0' entry\n",
    "        qc.x(zero_inds)\n",
    "        qc.compose(MCMT(ZGate(), num_qubits - 1, 1), inplace=True)\n",
    "        qc.x(zero_inds)\n",
    "    return qc\n",
    "\n",
    "marked_states = [\"101\", \"110\"]\n",
    "\n",
    "oracle = grover_oracle(marked_states)\n",
    "oracle.draw(output=\"mpl\", style=\"iqp\")"
   ]
  },
  {
   "cell_type": "code",
   "execution_count": 5,
   "metadata": {},
   "outputs": [
    {
     "data": {
      "image/png": "[encoded data removed]",
      "text/plain": [
       "<Figure size 1094.88x284.278 with 1 Axes>"
      ]
     },
     "execution_count": 5,
     "metadata": {},
     "output_type": "execute_result"
    }
   ],
   "source": [
    "grover_op = GroverOperator(oracle)\n",
    "grover_op.decompose().draw(output=\"mpl\", style=\"iqp\")"
   ]
  },
  {
   "cell_type": "code",
   "execution_count": 1,
   "metadata": {},
   "outputs": [
    {
     "name": "stdout",
     "output_type": "stream",
     "text": [
      "{'111': 506, '011': 494}\n",
      "     ┌───┐┌───┐     ┌───┐     ┌───┐┌───┐     ┌───┐┌───┐     ┌───┐┌───┐     »\n",
      "q_0: ┤ H ├┤ X ├──■──┤ X ├──■──┤ H ├┤ X ├──■──┤ X ├┤ X ├──■──┤ X ├┤ X ├──■──»\n",
      "     ├───┤└───┘  │  └───┘  │  ├───┤├───┤  │  ├───┤└───┘  │  └───┘└───┘  │  »\n",
      "q_1: ┤ H ├───────■─────────■──┤ H ├┤ X ├──■──┤ X ├───────■──────────────■──»\n",
      "     ├───┤       │         │  ├───┤└───┘  │  ├───┤       │  ┌───┐       │  »\n",
      "q_2: ┤ H ├───────■─────────■──┤ H ├───────■──┤ X ├───────■──┤ X ├───────■──»\n",
      "     ├───┤┌───┐┌─┴─┐     ┌─┴─┐└───┘     ┌─┴─┐└───┘     ┌─┴─┐└───┘     ┌─┴─┐»\n",
      "q_3: ┤ X ├┤ H ├┤ X ├─────┤ X ├──────────┤ X ├──────────┤ X ├──────────┤ X ├»\n",
      "     └───┘└───┘└───┘     └───┘          └───┘          └───┘          └───┘»\n",
      "c: 3/══════════════════════════════════════════════════════════════════════»\n",
      "                                                                           »\n",
      "«     ┌───┐                                        ┌───┐┌─┐      \n",
      "«q_0: ┤ X ├──■──────────────■─────────■─────────■──┤ H ├┤M├──────\n",
      "«     ├───┤  │  ┌───┐┌───┐  │  ┌───┐  │         │  ├───┤└╥┘┌─┐   \n",
      "«q_1: ┤ X ├──■──┤ X ├┤ X ├──■──┤ X ├──■─────────■──┤ H ├─╫─┤M├───\n",
      "«     ├───┤  │  ├───┤└───┘  │  ├───┤  │  ┌───┐  │  ├───┤ ║ └╥┘┌─┐\n",
      "«q_2: ┤ X ├──■──┤ X ├───────■──┤ X ├──■──┤ X ├──■──┤ H ├─╫──╫─┤M├\n",
      "«     └───┘┌─┴─┐└───┘     ┌─┴─┐└───┘┌─┴─┐└───┘┌─┴─┐└───┘ ║  ║ └╥┘\n",
      "«q_3: ─────┤ X ├──────────┤ X ├─────┤ X ├─────┤ X ├──────╫──╫──╫─\n",
      "«          └───┘          └───┘     └───┘     └───┘      ║  ║  ║ \n",
      "«c: 3/═══════════════════════════════════════════════════╩══╩══╩═\n",
      "«                                                        2  1  0 \n"
     ]
    }
   ],
   "source": [
    "import numpy as np\n",
    "from qiskit import QuantumCircuit, transpile\n",
    "from qiskit_aer import Aer\n",
    "from qiskit.visualization import plot_histogram\n",
    "import matplotlib.pyplot as plt\n",
    "from qiskit.circuit.library import MCXGate\n",
    "\n",
    "simulator = Aer.get_backend('qasm_simulator')\n",
    "\n",
    "circuit = QuantumCircuit(4, 3)\n",
    "\n",
    "circuit.h(0)\n",
    "circuit.h(1)\n",
    "circuit.h(2)\n",
    "\n",
    "circuit.x(3)\n",
    "\n",
    "circuit.h(3)\n",
    "\n",
    "circuit.x(0)\n",
    "circuit.append(MCXGate(3), [0, 1, 2, 3])\n",
    "circuit.x(0)\n",
    "circuit.append(MCXGate(3), [0, 1, 2, 3])\n",
    "\n",
    "circuit.h(0)\n",
    "circuit.h(1)\n",
    "circuit.h(2)\n",
    "\n",
    "circuit.x(0)\n",
    "circuit.x(1)\n",
    "circuit.append(MCXGate(3), [0, 1, 2, 3])\n",
    "circuit.x(0)\n",
    "circuit.x(1)\n",
    "\n",
    "circuit.x(0)\n",
    "circuit.x(2)\n",
    "circuit.append(MCXGate(3), [0, 1, 2, 3])\n",
    "circuit.x(0)\n",
    "circuit.x(2)\n",
    "\n",
    "circuit.x(0)\n",
    "circuit.append(MCXGate(3), [0, 1, 2, 3])\n",
    "circuit.x(0)\n",
    "\n",
    "circuit.x(1)\n",
    "circuit.x(2)\n",
    "circuit.append(MCXGate(3), [0, 1, 2, 3])\n",
    "circuit.x(1)\n",
    "circuit.x(2)\n",
    "\n",
    "circuit.x(1)\n",
    "circuit.append(MCXGate(3), [0, 1, 2, 3])\n",
    "circuit.x(1)\n",
    "\n",
    "circuit.x(2)\n",
    "circuit.append(MCXGate(3), [0, 1, 2, 3])\n",
    "circuit.x(2)\n",
    "\n",
    "circuit.append(MCXGate(3), [0, 1, 2, 3])\n",
    "\n",
    "circuit.h(0)\n",
    "circuit.h(1)\n",
    "circuit.h(2)\n",
    "\n",
    "circuit.measure(0, 2)\n",
    "circuit.measure(1, 1)\n",
    "circuit.measure(2, 0)\n",
    "\n",
    "compiled_circuit = transpile(circuit, simulator)\n",
    "job = simulator.run(compiled_circuit, shots=1000)\n",
    "result = job.result()\n",
    "counts = result.get_counts(circuit)\n",
    "print(counts)\n",
    "print(circuit)\n",
    "\n",
    "plot_histogram(counts)\n",
    "plt.show()"
   ]
  }
 ],
 "metadata": {
  "kernelspec": {
   "display_name": ".venv",
   "language": "python",
   "name": "python3"
  },
  "language_info": {
   "codemirror_mode": {
    "name": "ipython",
    "version": 3
   },
   "file_extension": ".py",
   "mimetype": "text/x-python",
   "name": "python",
   "nbconvert_exporter": "python",
   "pygments_lexer": "ipython3",
   "version": "3.10.4"
  }
 },
 "nbformat": 4,
 "nbformat_minor": 2
}
