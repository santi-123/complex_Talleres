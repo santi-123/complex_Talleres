{
 "cells": [
  {
   "cell_type": "markdown",
   "metadata": {},
   "source": [
    "# Teoría cuántica básica, Observables y Medidas\n",
    "\n",
    "### 1. Simule el primer sistema cuántico descrito en la sección 4.1.\n",
    "\n",
    "El sistema consiste en una partícula confinada a un conjunto discreto de posiciones en una línea. El simulador debe permitir especificar el número de posiciones y un vector ket de estado asignando las amplitudes.\n",
    "\n",
    "1. El sistema debe calcular la probabilidad de encontrarlo en una posición en particular.\n",
    "\n",
    "2. El sistema si se le da otro vector Ket debe buscar la probabilidad de transitar del primer vector al segundo."
   ]
  },
  {
   "cell_type": "code",
   "execution_count": 37,
   "metadata": {},
   "outputs": [
    {
     "data": {
      "application/vnd.jupyter.widget-view+json": {
       "model_id": "9ccb2f84225841cb89e4b360dd918f98",
       "version_major": 2,
       "version_minor": 0
      },
      "text/plain": [
       "Text(value='0.5+0.5j, 0.5, 0.5, 0.5j', description='ket_psi:')"
      ]
     },
     "metadata": {},
     "output_type": "display_data"
    },
    {
     "data": {
      "application/vnd.jupyter.widget-view+json": {
       "model_id": "0a63638158cb4e2790333a47ee31c1c5",
       "version_major": 2,
       "version_minor": 0
      },
      "text/plain": [
       "Text(value='', description='ket_phi:')"
      ]
     },
     "metadata": {},
     "output_type": "display_data"
    },
    {
     "data": {
      "application/vnd.jupyter.widget-view+json": {
       "model_id": "5623a8600fea4933854a687568421825",
       "version_major": 2,
       "version_minor": 0
      },
      "text/plain": [
       "Text(value='2', description='Posición:')"
      ]
     },
     "metadata": {},
     "output_type": "display_data"
    },
    {
     "data": {
      "application/vnd.jupyter.widget-view+json": {
       "model_id": "ea7008256edf4538a07e35df7bc9aa7f",
       "version_major": 2,
       "version_minor": 0
      },
      "text/plain": [
       "Button(description='Calcular', style=ButtonStyle())"
      ]
     },
     "metadata": {},
     "output_type": "display_data"
    },
    {
     "data": {
      "application/vnd.jupyter.widget-view+json": {
       "model_id": "2f1f3022c75b4dcb99385c8b85c7a604",
       "version_major": 2,
       "version_minor": 0
      },
      "text/plain": [
       "Label(value='')"
      ]
     },
     "metadata": {},
     "output_type": "display_data"
    },
    {
     "data": {
      "application/vnd.jupyter.widget-view+json": {
       "model_id": "e9d2f5bd47f642b4bc6a2ce88404260e",
       "version_major": 2,
       "version_minor": 0
      },
      "text/plain": [
       "Label(value='')"
      ]
     },
     "metadata": {},
     "output_type": "display_data"
    }
   ],
   "source": [
    "import numpy as np\n",
    "import ipywidgets as widgets\n",
    "from IPython.display import display\n",
    "\n",
    "def normalizar(ket):\n",
    "    norm = np.linalg.norm(ket)\n",
    "    if norm == 0:\n",
    "        raise ValueError(\"El vector ket no puede tener norma cero.\")\n",
    "    return ket / norm\n",
    "\n",
    "def prob_posicion(ket, posicion):\n",
    "    return np.abs(ket[posicion])**2\n",
    "\n",
    "def prob_transicion(ket1, ket2):\n",
    "    braket = np.vdot(ket2, ket1)\n",
    "    return np.abs(braket)**2\n",
    "\n",
    "\n",
    "def procesar_calculos():\n",
    "    try:\n",
    "        ket_psi = np.array([complex(x) for x in ket_input_psi.value.split(',')])\n",
    "        ket_psi = normalizar(ket_psi) \n",
    "        \n",
    "        if ket_input_phi.value:\n",
    "            ket_phi = np.array([complex(x) for x in ket_input_phi.value.split(',')])\n",
    "            ket_phi = normalizar(ket_phi)  \n",
    "            trans_prob = prob_transicion(ket_psi, ket_phi)\n",
    "            output_trans_prob.value = f\"Probabilidad de transición de ket_psi a ket_phi: {trans_prob}\"\n",
    "            output_prob_pos.value = \"\" \n",
    "        else:\n",
    "            posicion = int(pos_input.value)\n",
    "            prob_pos = prob_posicion(ket_psi, posicion)\n",
    "            output_prob_pos.value = f\"Probabilidad en posición {posicion}: {prob_pos}\"\n",
    "            output_trans_prob.value = \"\" \n",
    "    except Exception as e:\n",
    "        output_prob_pos.value = f\"Error: {str(e)}\"\n",
    "        output_trans_prob.value = \"\"\n",
    "\n",
    "ket_input_psi = widgets.Text(value='0.5+0.5j, 0.5, 0.5, 0.5j', description='ket_psi:')\n",
    "ket_input_phi = widgets.Text(value='', description='ket_phi:')\n",
    "pos_input = widgets.Text(value='2', description='Posición:')\n",
    "\n",
    "calcular_button = widgets.Button(description=\"Calcular\")\n",
    "\n",
    "calcular_button.on_click(procesar_calculos)\n",
    "\n",
    "output_prob_pos = widgets.Label(value=\"\")\n",
    "output_trans_prob = widgets.Label(value=\"\")\n",
    "\n",
    "display(ket_input_psi, ket_input_phi, pos_input, calcular_button, output_prob_pos, output_trans_prob)\n"
   ]
  },
  {
   "cell_type": "markdown",
   "metadata": {},
   "source": [
    "### 2. Complete los retos de programación del capítulo 4."
   ]
  },
  {
   "cell_type": "code",
   "execution_count": 64,
   "metadata": {},
   "outputs": [],
   "source": [
    "import numpy as np\n",
    "import matplotlib.pyplot as plt\n",
    "\n",
    "def normalizar(ket):\n",
    "    norm = np.linalg.norm(ket)\n",
    "    if norm == 0:\n",
    "        raise ValueError(\"El vector ket no puede tener norma cero.\")\n",
    "    return ket / norm\n",
    "\n",
    "def prob_transicion(ket1, ket2):\n",
    "    braket = np.vdot(ket2, ket1)\n",
    "    return np.abs(braket)**2\n",
    "\n",
    "def es_hermitiana(matriz):\n",
    "    return np.allclose(matriz, matriz.conj().T)\n",
    "\n",
    "def valor_esperado(matriz, ket):\n",
    "    return np.vdot(ket, np.dot(matriz, ket))\n",
    "\n",
    "def varianza(matriz, ket):\n",
    "    media = valor_esperado(matriz, ket)\n",
    "    ket_cuadrado = np.dot(matriz, ket)\n",
    "    media_cuadrado = valor_esperado(matriz, ket_cuadrado)\n",
    "    return media_cuadrado - np.abs(media)**2\n",
    "\n",
    "def es_unitaria(matriz):\n",
    "    return np.allclose(np.dot(matriz.conj().T, matriz), np.eye(matriz.shape[0]))\n",
    "\n",
    "\n"
   ]
  },
  {
   "cell_type": "markdown",
   "metadata": {},
   "source": [
    "1. Amplitud de transición. El sistema puede recibir dos vectores y calcular la probabilidad de transitar de el uno al otro después de hacer la observación."
   ]
  },
  {
   "cell_type": "code",
   "execution_count": 39,
   "metadata": {},
   "outputs": [],
   "source": [
    "def calcular_probabilidad_transicion(ket1, ket2):\n",
    "    ket1_normalizado = normalizar(ket1)\n",
    "    ket2_normalizado = normalizar(ket2)\n",
    "    \n",
    "    probabilidad = prob_transicion(ket1_normalizado, ket2_normalizado)\n",
    "    \n",
    "    return probabilidad\n"
   ]
  },
  {
   "cell_type": "markdown",
   "metadata": {},
   "source": [
    "2. Ahora con una matriz que describa un observable y un vector ket, el sistema revisa que la matriz sea hermitiana, y si lo es, calcula la media y la varianza del observable en el estado dado."
   ]
  },
  {
   "cell_type": "code",
   "execution_count": 40,
   "metadata": {},
   "outputs": [],
   "source": [
    "def calcular_observable(matriz, ket):\n",
    "    ket_normalizado = normalizar(ket)\n",
    "    \n",
    "    if matriz.shape != (len(ket_normalizado), len(ket_normalizado)):\n",
    "        raise ValueError(\"La matriz debe ser cuadrada y del mismo tamaño que el ket.\")\n",
    "    \n",
    "    if not es_hermitiana(matriz):\n",
    "        raise ValueError(\"La matriz no es hermitiana.\")\n",
    "    \n",
    "    media = valor_esperado(matriz, ket_normalizado)\n",
    "    var = varianza(matriz, ket_normalizado)\n",
    "    \n",
    "    return media, var"
   ]
  },
  {
   "cell_type": "markdown",
   "metadata": {},
   "source": [
    "3. El sistema calcula los valores propios del observable y la probabilidad de que el sistema transite a alguno de los vectores propios después de la observación."
   ]
  },
  {
   "cell_type": "code",
   "execution_count": 41,
   "metadata": {},
   "outputs": [],
   "source": [
    "def calcular_valores_propios_probabilidades(matriz_observable, ket):\n",
    "    if not np.allclose(matriz_observable, matriz_observable.conj().T):\n",
    "        raise ValueError(\"La matriz no es hermitiana.\")\n",
    "    \n",
    "    valores_propios, vectores_propios = np.linalg.eigh(matriz_observable) \n",
    "\n",
    "    ket_normalizado = normalizar(ket)\n",
    "\n",
    "    probabilidades = []\n",
    "    for vector_propio in vectores_propios.T:\n",
    "        vector_propio_normalizado = normalizar(vector_propio)\n",
    "        probabilidad = prob_transicion(ket_normalizado, vector_propio_normalizado)\n",
    "        probabilidades.append(probabilidad)\n",
    "\n",
    "    return valores_propios, probabilidades"
   ]
  },
  {
   "cell_type": "markdown",
   "metadata": {},
   "source": [
    "4. Se considera la dinámica del sistema. Ahora con una serie de matrices en el sistema calcula el estado final a partir de un estado inicial."
   ]
  },
  {
   "cell_type": "code",
   "execution_count": 42,
   "metadata": {},
   "outputs": [],
   "source": [
    "def evolucionar_estado(estado_inicial, matrices_unitarias):\n",
    "    estado_final = estado_inicial\n",
    "    for U in matrices_unitarias:\n",
    "\n",
    "        if not es_unitaria(U):\n",
    "            raise ValueError(\"Una de las matrices no es unitaria.\")\n",
    "\n",
    "        estado_final = np.dot(U, estado_final)\n",
    "\n",
    "        estado_final = normalizar(estado_final)\n",
    "    \n",
    "    return estado_final"
   ]
  },
  {
   "cell_type": "markdown",
   "metadata": {},
   "source": [
    "### 3. Realice los siguientes problemas e incluyalos como ejemplos\n",
    "\n",
    "4.3.1 Find all the possible states the system described in Exercise 4.2.2 can transition into after a measurement has been carried out."
   ]
  },
  {
   "cell_type": "code",
   "execution_count": 54,
   "metadata": {},
   "outputs": [
    {
     "name": "stdout",
     "output_type": "stream",
     "text": [
      "El estado resultante despues que Sx actua sobre el estado inicial es: [[0. ]\n",
      " [0.5]]\n",
      "Probabilidad de transitar al estado up: 0.0 \n",
      "Probabilidad de transitar al estado down: 1.0 \n"
     ]
    }
   ],
   "source": [
    "estado0 = np.array([[1],[0]])\n",
    "\n",
    "h=1\n",
    "sx = h/2*np.array([[0,1],\n",
    "                   [1,0]])\n",
    "\n",
    "estado1 = np.dot(sx,estado0)\n",
    "print(f\"El estado resultante despues que Sx actua sobre el estado inicial es:\", estado1)\n",
    "estado1 = normalizar(estado1)\n",
    "\n",
    "up = np.array([[1], [0]])    \n",
    "down = np.array([[0], [1]]) \n",
    "\n",
    "p_up = calcular_probabilidad_transicion(up, estado1)\n",
    "p_down = calcular_probabilidad_transicion(down, estado1)\n",
    "\n",
    "print(f\"Probabilidad de transitar al estado up: {p_up} \")\n",
    "print(f\"Probabilidad de transitar al estado down: {p_down} \")\n"
   ]
  },
  {
   "cell_type": "markdown",
   "metadata": {},
   "source": [
    "4.3.2 Perform the same calculations as in the last example, using Exercise 4.3.1. Then draw the probability distribution of the eigenvalues as in the previous example."
   ]
  },
  {
   "cell_type": "code",
   "execution_count": 66,
   "metadata": {},
   "outputs": [
    {
     "name": "stdout",
     "output_type": "stream",
     "text": [
      "Probabilidad para el vector del valor propio 1: 0.5000000000000001\n",
      "Probabilidad para el vector del valor propio 2: 0.5000000000000001\n"
     ]
    },
    {
     "data": {
      "image/png": "[encoded data removed]",
      "text/plain": [
       "<Figure size 800x500 with 1 Axes>"
      ]
     },
     "metadata": {},
     "output_type": "display_data"
    }
   ],
   "source": [
    "estado0 = np.array([[1],[0]])\n",
    "\n",
    "h=1\n",
    "sx = h/2*np.array([[0,1],\n",
    "                   [1,0]])\n",
    "\n",
    "valores, probabilidades = calcular_valores_propios_probabilidades(sx, estado0)\n",
    "\n",
    "n = 0\n",
    "for i in probabilidades:\n",
    "    print(f\"Probabilidad para el vector del valor propio {n + 1}: {i}\")\n",
    "    n = n + 1\n",
    "\n",
    "plt.figure(figsize=(8, 5))\n",
    "plt.bar(range(1, len(valores) + 1), probabilidades, tick_label=[f\"Valor {i+1}\" for i in range(len(valores))], color='red', alpha=0.7)\n",
    "plt.xlabel('Valores Propios')\n",
    "plt.ylabel('Probabilidad')\n",
    "plt.title('Distribución de Probabilidades')\n",
    "plt.ylim(0, 1)\n",
    "plt.grid(axis='y')\n",
    "plt.show()"
   ]
  },
  {
   "cell_type": "markdown",
   "metadata": {},
   "source": [
    "4.4.1 Verify that\n",
    "\n",
    "$$ U = \\begin{bmatrix} 0 & 1 \\\\ 1 & 0 \\end{bmatrix} $$   \n",
    "$$ W = \\begin{bmatrix} \\sqrt{2}/2 & \\sqrt{2}/2 \\\\ \\sqrt{2}/2 & -\\sqrt{2}/2 \\end{bmatrix} $$ \n",
    "\n",
    "are unitary matrices. Multiply them and verify that their product is also unitary.\n"
   ]
  },
  {
   "cell_type": "code",
   "execution_count": 70,
   "metadata": {},
   "outputs": [
    {
     "name": "stdout",
     "output_type": "stream",
     "text": [
      "La matriz u es unitaria.\n",
      "La matriz w es unitaria.\n",
      "El producto uw es unitaria.\n"
     ]
    }
   ],
   "source": [
    "u = np.array([[0,1],[1,0]])\n",
    "w = np.array([[np.sqrt(2)/2,np.sqrt(2)/2],[np.sqrt(2)/2,-np.sqrt(2)/2]])\n",
    "\n",
    "if es_unitaria(u):\n",
    "    print(\"La matriz u es unitaria.\")\n",
    "else:\n",
    "    print(\"La matriz u no es unitaria.\")\n",
    "\n",
    "if es_unitaria(w):\n",
    "    print(\"La matriz w es unitaria.\")\n",
    "else:\n",
    "    print(\"La matriz w no es unitaria.\")\n",
    "\n",
    "uw = np.dot(u, w)\n",
    "\n",
    "if es_unitaria(uw):\n",
    "    print(\"El producto uw es unitaria.\")\n",
    "else:\n",
    "    print(\"El producto uw no es unitaria.\")\n",
    "\n"
   ]
  },
  {
   "cell_type": "markdown",
   "metadata": {},
   "source": [
    "4.4.2 Go back to Example 3.3.2 (quantum billiard ball), keep the same initial state vector [1, 0, 0, 0]T, but change the unitary map to\n",
    "\n",
    "\\begin{bmatrix} \n",
    "0 & 1/\\sqrt{2} & 1/\\sqrt{2} & 0 \\\\ \n",
    "i/\\sqrt{2} & 0 & 0 & 1/\\sqrt{2} \\\\ \n",
    "1/\\sqrt{2} & 0 & 0 & i/\\sqrt{2} \\\\ \n",
    "0 & 1/\\sqrt{2} & -1/\\sqrt{2} & 0 \\end{bmatrix}\n",
    "\n",
    "Determine the state of the system after three time steps. What is the chance of the quantum ball to be found at point 3?"
   ]
  },
  {
   "cell_type": "code",
   "execution_count": 71,
   "metadata": {},
   "outputs": [
    {
     "name": "stdout",
     "output_type": "stream",
     "text": [
      "Clic 1: \n",
      "[[0.        +0.j        ]\n",
      " [0.        +0.70710678j]\n",
      " [0.70710678+0.j        ]\n",
      " [0.        +0.j        ]]\n",
      "Clic 2: \n",
      "[[ 0.5+0.5j]\n",
      " [ 0. +0.j ]\n",
      " [ 0. +0.j ]\n",
      " [-0.5+0.5j]]\n",
      "Clic 3: \n",
      "[[ 0.        +0.j        ]\n",
      " [-0.70710678+0.70710678j]\n",
      " [ 0.        +0.j        ]\n",
      " [ 0.        +0.j        ]]\n",
      "La probabilidad de que la bola se encuentre en el punto 3 es: 0j\n"
     ]
    }
   ],
   "source": [
    "estado0 = np.array([[1],[0],[0],[0]])\n",
    "\n",
    "matriz = np.array([\n",
    "    [0, 1/np.sqrt(2), 1/np.sqrt(2), 0],\n",
    "    [1j/np.sqrt(2), 0, 0, 1/np.sqrt(2)],\n",
    "    [1/np.sqrt(2), 0, 0, 1j/np.sqrt(2)],\n",
    "    [0, 1/np.sqrt(2), -1/np.sqrt(2), 0]\n",
    "])\n",
    "\n",
    "print(\"Clic 1: \")\n",
    "estado1 = np.dot(matriz,estado0)\n",
    "print(estado1)\n",
    "print(\"Clic 2: \")\n",
    "estado2 = np.dot(matriz,estado1)\n",
    "print(estado2)\n",
    "print(\"Clic 3: \")\n",
    "estado3 = np.dot(matriz,estado2)\n",
    "print(estado3)\n",
    "\n",
    "norma = np.linalg.norm(estado3)\n",
    "\n",
    "print(f\"La probabilidad de que la bola se encuentre en el punto 3 es: {(estado3[3][0])**2/norma**2}\")"
   ]
  },
  {
   "cell_type": "markdown",
   "metadata": {},
   "source": [
    "4.5.2\n",
    "\n",
    "Write down the generic state vector for the system of two particles\n",
    "with spin. Generalize it to a system with n particles (this is important: it will be the physical realization for quantum registers!)."
   ]
  },
  {
   "cell_type": "markdown",
   "metadata": {},
   "source": [
    "El producto tensorial entre dos estados $|U_{1}\\rangle$ y $|U_{2}\\rangle$, que definen el estado de cada partícula, nos permite establecer el vector de estado. Si consideramos que existen en el sistema los estados $|U_{1}\\rangle$ y $|U_{2}\\rangle$, el vector que describe el estado del sistema es:\n",
    "\n",
    "\\begin{equation}\n",
    "|X\\rangle = |U_{1}\\rangle \\otimes |U_{2}\\rangle\n",
    "\\end{equation}\n",
    "\n",
    "Ahora, teniendo en cuenta la ecuación (1), si suponemos un sistema con más partículas, un sistema de $n$ partículas, podemos utilizar esta ecuación para generar un vector que describa el estado general del sistema de la siguiente manera:\n",
    "\n",
    "Dado un sistema de $n$ partículas, sean $U_{0}, U_{1}, U_{2}, \\ldots, U_{n-1}$ las partículas del sistema, y sea $|X\\rangle$ la ecuación que describe el estado total del sistema, entonces $|X\\rangle$ se define como:\n",
    "\n",
    "\\begin{equation}\n",
    "|X\\rangle = |U_{0}\\rangle \\otimes |U_{1}\\rangle \\otimes |U_{2}\\rangle \\otimes \\dots \\otimes |U_{n}\\rangle\n",
    "\\tag{2}\n",
    "\\end{equation}\n"
   ]
  }
 ],
 "metadata": {
  "kernelspec": {
   "display_name": ".venv",
   "language": "python",
   "name": "python3"
  },
  "language_info": {
   "codemirror_mode": {
    "name": "ipython",
    "version": 3
   },
   "file_extension": ".py",
   "mimetype": "text/x-python",
   "name": "python",
   "nbconvert_exporter": "python",
   "pygments_lexer": "ipython3",
   "version": "3.10.4"
  }
 },
 "nbformat": 4,
 "nbformat_minor": 2
}
